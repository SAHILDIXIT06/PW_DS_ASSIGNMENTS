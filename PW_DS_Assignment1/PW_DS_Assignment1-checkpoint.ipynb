{
 "cells": [
  {
   "cell_type": "markdown",
   "metadata": {
    "id": "WtyCgvLUcbfj"
   },
   "source": [
    "Q1. Create one variable containing following type of data:\n",
    "\n",
    "(i)\tstring\n",
    "\n",
    "(ii)\tlist\n",
    "\n",
    "(iii)\tfloat\n",
    "\n",
    "(iv)\ttuple"
   ]
  },
  {
   "cell_type": "code",
   "execution_count": null,
   "metadata": {
    "colab": {
     "base_uri": "https://localhost:8080/"
    },
    "id": "rOK-evyvckeW",
    "outputId": "52d4dc43-cef2-48f7-b46e-3394f5bfe8a9"
   },
   "outputs": [
    {
     "name": "stdout",
     "output_type": "stream",
     "text": [
      "('This is a string', [1, 2, 3, 4], 3.14, (5, 6, 7))\n"
     ]
    }
   ],
   "source": [
    "# Variable containing multiple types of data\n",
    "data_variable = (\"This is a string\", [1, 2, 3, 4], 3.14, (5, 6, 7))\n",
    "print(data_variable)"
   ]
  },
  {
   "cell_type": "code",
   "execution_count": null,
   "metadata": {},
   "outputs": [],
   "source": []
  },
  {
   "cell_type": "code",
   "execution_count": null,
   "metadata": {},
   "outputs": [],
   "source": []
  },
  {
   "cell_type": "markdown",
   "metadata": {
    "id": "kWcj6XEcc3h4"
   },
   "source": [
    "Q2. Given are some following variables containing data:\n",
    "\n",
    "(i)\tvar1 = ‘ ‘\n",
    "\n",
    "(ii)\tvar2 = ‘[ DS , ML , Python]’\n",
    "\n",
    "(iii)\tvar3 = [ ‘DS’ , ’ML’ , ‘Python’ ]\n",
    "\n",
    "(iv)\tvar4 = 1.\n",
    "\n",
    "\n",
    "What will be the data type of the above given variable."
   ]
  },
  {
   "cell_type": "code",
   "execution_count": null,
   "metadata": {
    "colab": {
     "base_uri": "https://localhost:8080/"
    },
    "id": "Il6b9YGEdKgG",
    "outputId": "a4026f4b-61ac-45c5-d86c-0af7fccf8a46"
   },
   "outputs": [
    {
     "name": "stdout",
     "output_type": "stream",
     "text": [
      "<class 'str'> <class 'str'> <class 'list'> <class 'float'>\n"
     ]
    }
   ],
   "source": [
    "var1 = ' '                  # Data type: String\n",
    "var2 = '[ DS , ML , Python]' # Data type: String\n",
    "var3 = [ 'DS', 'ML', 'Python'] # Data type: List\n",
    "var4 = 1.0                  # Data type: Float\n",
    "\n",
    "print(type(var1), type(var2), type(var3), type(var4))"
   ]
  },
  {
   "cell_type": "markdown",
   "metadata": {
    "id": "lj3WZZ9GdWYq"
   },
   "source": [
    "Q3. Explain the use of the following operators using an example:\n",
    "\n",
    "(i)\t/\n",
    "\n",
    "(ii)\t%\n",
    "\n",
    "(iii)\t//\n",
    "\n",
    "(iv)\t**"
   ]
  },
  {
   "cell_type": "code",
   "execution_count": null,
   "metadata": {
    "colab": {
     "base_uri": "https://localhost:8080/"
    },
    "id": "J9aOwIW9dXz7",
    "outputId": "d8b6712e-5ee2-4105-a2ee-102535920c03"
   },
   "outputs": [
    {
     "name": "stdout",
     "output_type": "stream",
     "text": [
      "3.3333333333333335\n",
      "1\n",
      "3\n",
      "1000\n"
     ]
    }
   ],
   "source": [
    "# Examples\n",
    "a = 10\n",
    "b = 3\n",
    "\n",
    "# Division\n",
    "print(a / b)  # Output: 3.3333\n",
    "\n",
    "# Modulus\n",
    "print(a % b)  # Output: 1 (remainder of 10/3)\n",
    "\n",
    "# Floor Division\n",
    "print(a // b)  # Output: 3 (quotient without decimal)\n",
    "\n",
    "# Exponentiation\n",
    "print(a ** b)  # Output: 1000 (10 raised to the power of 3)"
   ]
  },
  {
   "cell_type": "markdown",
   "metadata": {
    "id": "FKDiPpUUdl3D"
   },
   "source": [
    "Q4. Create a list of length 10 of your choice containing multiple types of data. Using for loop print the\n",
    "element and its data type."
   ]
  },
  {
   "cell_type": "code",
   "execution_count": null,
   "metadata": {
    "colab": {
     "base_uri": "https://localhost:8080/"
    },
    "id": "msylb7aIdnSW",
    "outputId": "90f36547-c4c8-436a-eca8-1df68b41db71"
   },
   "outputs": [
    {
     "name": "stdout",
     "output_type": "stream",
     "text": [
      "Element: 42, Type: <class 'int'>\n",
      "Element: AI, Type: <class 'str'>\n",
      "Element: 3.14, Type: <class 'float'>\n",
      "Element: True, Type: <class 'bool'>\n",
      "Element: None, Type: <class 'NoneType'>\n",
      "Element: [1, 2], Type: <class 'list'>\n",
      "Element: (3, 4), Type: <class 'tuple'>\n",
      "Element: {'key': 'value'}, Type: <class 'dict'>\n",
      "Element: {1, 2, 3}, Type: <class 'set'>\n",
      "Element: b'bytes', Type: <class 'bytes'>\n"
     ]
    }
   ],
   "source": [
    "# List with multiple data types\n",
    "my_list = [42, \"AI\", 3.14, True, None, [1, 2], (3, 4), {\"key\": \"value\"}, {1, 2, 3}, b\"bytes\"]\n",
    "\n",
    "# For loop to print each element and its type\n",
    "for element in my_list:\n",
    "    print(f\"Element: {element}, Type: {type(element)}\")"
   ]
  },
  {
   "cell_type": "markdown",
   "metadata": {
    "id": "KYbSGtEleKg9"
   },
   "source": [
    "Q5. Using a while loop, verify if the number A is purely divisible by number B and if so then how many\n",
    "times it can be divisible."
   ]
  },
  {
   "cell_type": "code",
   "execution_count": null,
   "metadata": {
    "colab": {
     "base_uri": "https://localhost:8080/"
    },
    "id": "UuA4niPufCRS",
    "outputId": "d891beb3-6d66-4062-cae3-e3f2120b8877"
   },
   "outputs": [
    {
     "name": "stdout",
     "output_type": "stream",
     "text": [
      "The number is divisible 2 times.\n"
     ]
    }
   ],
   "source": [
    "# Example numbers\n",
    "A = 36\n",
    "B = 6\n",
    "count = 0\n",
    "\n",
    "while A % B == 0:\n",
    "    A = A // B\n",
    "    count += 1\n",
    "\n",
    "print(f\"The number is divisible {count} times.\")"
   ]
  },
  {
   "cell_type": "markdown",
   "metadata": {
    "id": "wjJa59dQeJi7"
   },
   "source": []
  },
  {
   "cell_type": "markdown",
   "metadata": {
    "id": "bLPalLkWf1n-"
   },
   "source": [
    "Q6. Create a list containing 25 int type data. Using for loop and if-else condition print if the element is\n",
    "divisible by 3 or not."
   ]
  },
  {
   "cell_type": "code",
   "execution_count": null,
   "metadata": {
    "colab": {
     "base_uri": "https://localhost:8080/"
    },
    "id": "ERYqBK3jf9hr",
    "outputId": "58d03ce1-3a4f-4525-fc50-7b896b2b7ae1"
   },
   "outputs": [
    {
     "name": "stdout",
     "output_type": "stream",
     "text": [
      "1 is NOT divisible by 3\n",
      "2 is NOT divisible by 3\n",
      "3 is divisible by 3\n",
      "4 is NOT divisible by 3\n",
      "5 is NOT divisible by 3\n",
      "6 is divisible by 3\n",
      "7 is NOT divisible by 3\n",
      "8 is NOT divisible by 3\n",
      "9 is divisible by 3\n",
      "10 is NOT divisible by 3\n",
      "11 is NOT divisible by 3\n",
      "12 is divisible by 3\n",
      "13 is NOT divisible by 3\n",
      "14 is NOT divisible by 3\n",
      "15 is divisible by 3\n",
      "16 is NOT divisible by 3\n",
      "17 is NOT divisible by 3\n",
      "18 is divisible by 3\n",
      "19 is NOT divisible by 3\n",
      "20 is NOT divisible by 3\n",
      "21 is divisible by 3\n",
      "22 is NOT divisible by 3\n",
      "23 is NOT divisible by 3\n",
      "24 is divisible by 3\n",
      "25 is NOT divisible by 3\n"
     ]
    }
   ],
   "source": [
    "# List of 25 integers\n",
    "my_list = list(range(1, 26))\n",
    "\n",
    "# For loop with if-else condition\n",
    "for num in my_list:\n",
    "    if num % 3 == 0:\n",
    "            print(f\"{num} is divisible by 3\")\n",
    "    else:\n",
    "            print(f\"{num} is NOT divisible by 3\")"
   ]
  },
  {
   "cell_type": "markdown",
   "metadata": {
    "id": "U2I0HLPYgQVm"
   },
   "source": [
    "Q7. What do you understand about mutable and immutable data types? Give examples for both showing\n",
    "this property"
   ]
  },
  {
   "cell_type": "markdown",
   "metadata": {
    "id": "zWR_tOMFiaqV"
   },
   "source": [
    "Mutable Data Types: Can be changed after creation.\n",
    "Example: List\n"
   ]
  },
  {
   "cell_type": "code",
   "execution_count": null,
   "metadata": {
    "colab": {
     "base_uri": "https://localhost:8080/"
    },
    "id": "YHPkSjongYpK",
    "outputId": "9717d26c-4226-430a-8b22-e30b4e7d6e24"
   },
   "outputs": [
    {
     "name": "stdout",
     "output_type": "stream",
     "text": [
      "[10, 2, 3]\n"
     ]
    }
   ],
   "source": [
    "my_list = [1, 2, 3]\n",
    "my_list[0] = 10  # Modifying the first element\n",
    "print(my_list)   # Output: [10, 2, 3]"
   ]
  },
  {
   "cell_type": "markdown",
   "metadata": {
    "id": "Y_eXdvdWiQUp"
   },
   "source": [
    "Immutable Data Types: Cannot be changed after creation.\n",
    "Example: Tuple\n"
   ]
  },
  {
   "cell_type": "code",
   "execution_count": null,
   "metadata": {
    "colab": {
     "base_uri": "https://localhost:8080/"
    },
    "id": "lj3D9dUEgfZS",
    "outputId": "818de323-a119-4a76-88c2-b8a256d0f3e8"
   },
   "outputs": [
    {
     "name": "stdout",
     "output_type": "stream",
     "text": [
      "(1, 2, 3)\n"
     ]
    }
   ],
   "source": [
    "my_tuple = (1, 2, 3)\n",
    "# my_tuple[0] = 10  # This will raise a TypeError\n",
    "print(my_tuple)  # Output: (1, 2, 3)"
   ]
  }
 ],
 "metadata": {
  "colab": {
   "provenance": []
  },
  "kernelspec": {
   "display_name": "Python 3 (ipykernel)",
   "language": "python",
   "name": "python3"
  },
  "language_info": {
   "codemirror_mode": {
    "name": "ipython",
    "version": 3
   },
   "file_extension": ".py",
   "mimetype": "text/x-python",
   "name": "python",
   "nbconvert_exporter": "python",
   "pygments_lexer": "ipython3",
   "version": "3.13.0"
  }
 },
 "nbformat": 4,
 "nbformat_minor": 4
}
